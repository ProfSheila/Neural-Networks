{
  "nbformat": 4,
  "nbformat_minor": 0,
  "metadata": {
    "colab": {
      "name": "Untitled0.ipynb",
      "provenance": [],
      "authorship_tag": "ABX9TyPPKgmWnzWUHIujj8AMQ302",
      "include_colab_link": true
    },
    "kernelspec": {
      "name": "python3",
      "display_name": "Python 3"
    },
    "language_info": {
      "name": "python"
    }
  },
  "cells": [
    {
      "cell_type": "markdown",
      "metadata": {
        "id": "view-in-github",
        "colab_type": "text"
      },
      "source": [
        "<a href=\"https://colab.research.google.com/github/ProfSheila/Neural-Networks/blob/main/Untitled0.ipynb\" target=\"_parent\"><img src=\"https://colab.research.google.com/assets/colab-badge.svg\" alt=\"Open In Colab\"/></a>"
      ]
    },
    {
      "cell_type": "code",
      "execution_count": 1,
      "metadata": {
        "id": "1mgdDp4ugx2t"
      },
      "outputs": [],
      "source": [
        "# Import our dependencies\n",
        "import pandas as pd\n",
        "import matplotlib as plt\n",
        "from sklearn.datasets import make_blobs\n",
        "import sklearn as skl\n",
        "import tensorflow as tf"
      ]
    },
    {
      "cell_type": "code",
      "source": [
        "# Generate dummy dataset\n",
        "X, y = make_blobs(n_samples=1000, centers=2, n_features=2, random_state=78)\n",
        "\n",
        "# Creating a DataFrame with the dummy data\n",
        "df = pd.DataFrame(X, columns=[\"Feature 1\", \"Feature 2\"])\n",
        "df[\"Target\"] = y\n",
        "\n",
        "# Plotting the dummy data\n",
        "df.plot.scatter(x=\"Feature 1\", y=\"Feature 2\", c=\"Target\", colormap=\"winter\")"
      ],
      "metadata": {
        "colab": {
          "base_uri": "https://localhost:8080/",
          "height": 276
        },
        "id": "yMS7CYsZg3NP",
        "outputId": "354e1913-9d3d-47a3-85e2-465bfb0eb367"
      },
      "execution_count": 4,
      "outputs": [
        {
          "output_type": "execute_result",
          "data": {
            "text/plain": [
              "<matplotlib.axes._subplots.AxesSubplot at 0x7f0032fd1cd0>"
            ]
          },
          "metadata": {},
          "execution_count": 4
        },
        {
          "output_type": "display_data",
          "data": {
            "text/plain": [
              "<Figure size 432x288 with 2 Axes>"
            ],
            "image/png": "[encoded data removed]"
          },
          "metadata": {
            "needs_background": "light"
          }
        }
      ]
    },
    {
      "cell_type": "code",
      "source": [
        "# Use sklearn to split dataset\n",
        "from sklearn.model_selection import train_test_split\n",
        "X_train, X_test, y_train, y_test = train_test_split(X, y, random_state=78)"
      ],
      "metadata": {
        "id": "svP9UIWThb_E"
      },
      "execution_count": 6,
      "outputs": []
    },
    {
      "cell_type": "code",
      "source": [
        "# Create scaler instance\n",
        "X_scaler = skl.preprocessing.StandardScaler()\n",
        "\n",
        "# Fit the scaler\n",
        "X_scaler.fit(X_train)\n",
        "\n",
        "# Scale the data\n",
        "X_train_scaled = X_scaler.transform(X_train)\n",
        "X_test_scaled = X_scaler.transform(X_test)"
      ],
      "metadata": {
        "id": "rVginq_ihiHN"
      },
      "execution_count": 7,
      "outputs": []
    },
    {
      "cell_type": "code",
      "source": [
        "# Create the Keras Sequential model\n",
        "nn_model = tf.keras.models.Sequential()"
      ],
      "metadata": {
        "id": "Q9fLE6B0hnEx"
      },
      "execution_count": 9,
      "outputs": []
    },
    {
      "cell_type": "code",
      "source": [
        "# Add our first Dense layer, including the input layer\n",
        "nn_model.add(tf.keras.layers.Dense(units=1, activation=\"relu\", input_dim=2))"
      ],
      "metadata": {
        "id": "h1Wo5qpVhulq"
      },
      "execution_count": 10,
      "outputs": []
    },
    {
      "cell_type": "code",
      "source": [
        "# Add the output layer that uses a probability activation function\n",
        "nn_model.add(tf.keras.layers.Dense(units=1, activation=\"sigmoid\"))"
      ],
      "metadata": {
        "id": "npVpAGT-iEF4"
      },
      "execution_count": 11,
      "outputs": []
    },
    {
      "cell_type": "code",
      "source": [
        "# Check the structure of the Sequential model\n",
        "nn_model.summary()"
      ],
      "metadata": {
        "colab": {
          "base_uri": "https://localhost:8080/"
        },
        "id": "iOyhfGIjiK1d",
        "outputId": "573237f5-7cfe-446f-c5b8-6994a9a7181c"
      },
      "execution_count": 12,
      "outputs": [
        {
          "output_type": "stream",
          "name": "stdout",
          "text": [
            "Model: \"sequential_1\"\n",
            "_________________________________________________________________\n",
            " Layer (type)                Output Shape              Param #   \n",
            "=================================================================\n",
            " dense (Dense)               (None, 1)                 3         \n",
            "                                                                 \n",
            " dense_1 (Dense)             (None, 1)                 2         \n",
            "                                                                 \n",
            "=================================================================\n",
            "Total params: 5\n",
            "Trainable params: 5\n",
            "Non-trainable params: 0\n",
            "_________________________________________________________________\n"
          ]
        }
      ]
    },
    {
      "cell_type": "code",
      "source": [
        "# Compile the Sequential model together and customize metrics\n",
        "nn_model.compile(loss=\"binary_crossentropy\", optimizer=\"adam\", metrics=[\"accuracy\"])"
      ],
      "metadata": {
        "id": "4ERPMuxsjCN_"
      },
      "execution_count": 18,
      "outputs": []
    },
    {
      "cell_type": "code",
      "source": [
        "# Fit the model to the training data\n",
        "fit_model = nn_model.fit(X_train_scaled, y_train, epochs=100)"
      ],
      "metadata": {
        "colab": {
          "base_uri": "https://localhost:8080/"
        },
        "id": "9hZlMF0CjGSY",
        "outputId": "10df5c0b-f842-4eba-a925-50404fbc51af"
      },
      "execution_count": 14,
      "outputs": [
        {
          "output_type": "stream",
          "name": "stdout",
          "text": [
            "Epoch 1/100\n",
            "24/24 [==============================] - 1s 1ms/step - loss: 0.7009 - accuracy: 0.5067\n",
            "Epoch 2/100\n",
            "24/24 [==============================] - 0s 2ms/step - loss: 0.6979 - accuracy: 0.5067\n",
            "Epoch 3/100\n",
            "24/24 [==============================] - 0s 2ms/step - loss: 0.6959 - accuracy: 0.5067\n",
            "Epoch 4/100\n",
            "24/24 [==============================] - 0s 1ms/step - loss: 0.6946 - accuracy: 0.5067\n",
            "Epoch 5/100\n",
            "24/24 [==============================] - 0s 1ms/step - loss: 0.6939 - accuracy: 0.5067\n",
            "Epoch 6/100\n",
            "24/24 [==============================] - 0s 2ms/step - loss: 0.6935 - accuracy: 0.5067\n",
            "Epoch 7/100\n",
            "24/24 [==============================] - 0s 1ms/step - loss: 0.6933 - accuracy: 0.5067\n",
            "Epoch 8/100\n",
            "24/24 [==============================] - 0s 1ms/step - loss: 0.6931 - accuracy: 0.5067\n",
            "Epoch 9/100\n",
            "24/24 [==============================] - 0s 1ms/step - loss: 0.6931 - accuracy: 0.5067\n",
            "Epoch 10/100\n",
            "24/24 [==============================] - 0s 1ms/step - loss: 0.6931 - accuracy: 0.5067\n",
            "Epoch 11/100\n",
            "24/24 [==============================] - 0s 1ms/step - loss: 0.6931 - accuracy: 0.5067\n",
            "Epoch 12/100\n",
            "24/24 [==============================] - 0s 2ms/step - loss: 0.6931 - accuracy: 0.5067\n",
            "Epoch 13/100\n",
            "24/24 [==============================] - 0s 2ms/step - loss: 0.6931 - accuracy: 0.5067\n",
            "Epoch 14/100\n",
            "24/24 [==============================] - 0s 2ms/step - loss: 0.6931 - accuracy: 0.5067\n",
            "Epoch 15/100\n",
            "24/24 [==============================] - 0s 1ms/step - loss: 0.6931 - accuracy: 0.5067\n",
            "Epoch 16/100\n",
            "24/24 [==============================] - 0s 1ms/step - loss: 0.6931 - accuracy: 0.5067\n",
            "Epoch 17/100\n",
            "24/24 [==============================] - 0s 1ms/step - loss: 0.6931 - accuracy: 0.5067\n",
            "Epoch 18/100\n",
            "24/24 [==============================] - 0s 1ms/step - loss: 0.6931 - accuracy: 0.5067\n",
            "Epoch 19/100\n",
            "24/24 [==============================] - 0s 1ms/step - loss: 0.6931 - accuracy: 0.5067\n",
            "Epoch 20/100\n",
            "24/24 [==============================] - 0s 1ms/step - loss: 0.6931 - accuracy: 0.5067\n",
            "Epoch 21/100\n",
            "24/24 [==============================] - 0s 2ms/step - loss: 0.6931 - accuracy: 0.5067\n",
            "Epoch 22/100\n",
            "24/24 [==============================] - 0s 2ms/step - loss: 0.6931 - accuracy: 0.5067\n",
            "Epoch 23/100\n",
            "24/24 [==============================] - 0s 2ms/step - loss: 0.6931 - accuracy: 0.5067\n",
            "Epoch 24/100\n",
            "24/24 [==============================] - 0s 1ms/step - loss: 0.6931 - accuracy: 0.5067\n",
            "Epoch 25/100\n",
            "24/24 [==============================] - 0s 2ms/step - loss: 0.6932 - accuracy: 0.5067\n",
            "Epoch 26/100\n",
            "24/24 [==============================] - 0s 2ms/step - loss: 0.6931 - accuracy: 0.5067\n",
            "Epoch 27/100\n",
            "24/24 [==============================] - 0s 2ms/step - loss: 0.6931 - accuracy: 0.5067\n",
            "Epoch 28/100\n",
            "24/24 [==============================] - 0s 1ms/step - loss: 0.6931 - accuracy: 0.5067\n",
            "Epoch 29/100\n",
            "24/24 [==============================] - 0s 2ms/step - loss: 0.6931 - accuracy: 0.5067\n",
            "Epoch 30/100\n",
            "24/24 [==============================] - 0s 2ms/step - loss: 0.6931 - accuracy: 0.5067\n",
            "Epoch 31/100\n",
            "24/24 [==============================] - 0s 2ms/step - loss: 0.6931 - accuracy: 0.5067\n",
            "Epoch 32/100\n",
            "24/24 [==============================] - 0s 1ms/step - loss: 0.6931 - accuracy: 0.5067\n",
            "Epoch 33/100\n",
            "24/24 [==============================] - 0s 2ms/step - loss: 0.6931 - accuracy: 0.5067\n",
            "Epoch 34/100\n",
            "24/24 [==============================] - 0s 1ms/step - loss: 0.6931 - accuracy: 0.5067\n",
            "Epoch 35/100\n",
            "24/24 [==============================] - 0s 2ms/step - loss: 0.6931 - accuracy: 0.5067\n",
            "Epoch 36/100\n",
            "24/24 [==============================] - 0s 1ms/step - loss: 0.6931 - accuracy: 0.5067\n",
            "Epoch 37/100\n",
            "24/24 [==============================] - 0s 2ms/step - loss: 0.6931 - accuracy: 0.5067\n",
            "Epoch 38/100\n",
            "24/24 [==============================] - 0s 1ms/step - loss: 0.6931 - accuracy: 0.5067\n",
            "Epoch 39/100\n",
            "24/24 [==============================] - 0s 2ms/step - loss: 0.6931 - accuracy: 0.5067\n",
            "Epoch 40/100\n",
            "24/24 [==============================] - 0s 1ms/step - loss: 0.6931 - accuracy: 0.5067\n",
            "Epoch 41/100\n",
            "24/24 [==============================] - 0s 2ms/step - loss: 0.6931 - accuracy: 0.5067\n",
            "Epoch 42/100\n",
            "24/24 [==============================] - 0s 2ms/step - loss: 0.6931 - accuracy: 0.5067\n",
            "Epoch 43/100\n",
            "24/24 [==============================] - 0s 2ms/step - loss: 0.6931 - accuracy: 0.5067\n",
            "Epoch 44/100\n",
            "24/24 [==============================] - 0s 2ms/step - loss: 0.6931 - accuracy: 0.5067\n",
            "Epoch 45/100\n",
            "24/24 [==============================] - 0s 2ms/step - loss: 0.6931 - accuracy: 0.5067\n",
            "Epoch 46/100\n",
            "24/24 [==============================] - 0s 1ms/step - loss: 0.6931 - accuracy: 0.5067\n",
            "Epoch 47/100\n",
            "24/24 [==============================] - 0s 1ms/step - loss: 0.6931 - accuracy: 0.5067\n",
            "Epoch 48/100\n",
            "24/24 [==============================] - 0s 2ms/step - loss: 0.6931 - accuracy: 0.5067\n",
            "Epoch 49/100\n",
            "24/24 [==============================] - 0s 1ms/step - loss: 0.6931 - accuracy: 0.5067\n",
            "Epoch 50/100\n",
            "24/24 [==============================] - 0s 1ms/step - loss: 0.6931 - accuracy: 0.5067\n",
            "Epoch 51/100\n",
            "24/24 [==============================] - 0s 1ms/step - loss: 0.6931 - accuracy: 0.5067\n",
            "Epoch 52/100\n",
            "24/24 [==============================] - 0s 1ms/step - loss: 0.6931 - accuracy: 0.5067\n",
            "Epoch 53/100\n",
            "24/24 [==============================] - 0s 2ms/step - loss: 0.6931 - accuracy: 0.5067\n",
            "Epoch 54/100\n",
            "24/24 [==============================] - 0s 1ms/step - loss: 0.6931 - accuracy: 0.5067\n",
            "Epoch 55/100\n",
            "24/24 [==============================] - 0s 1ms/step - loss: 0.6931 - accuracy: 0.5067\n",
            "Epoch 56/100\n",
            "24/24 [==============================] - 0s 2ms/step - loss: 0.6931 - accuracy: 0.5067\n",
            "Epoch 57/100\n",
            "24/24 [==============================] - 0s 2ms/step - loss: 0.6931 - accuracy: 0.5067\n",
            "Epoch 58/100\n",
            "24/24 [==============================] - 0s 1ms/step - loss: 0.6931 - accuracy: 0.5067\n",
            "Epoch 59/100\n",
            "24/24 [==============================] - 0s 2ms/step - loss: 0.6931 - accuracy: 0.5067\n",
            "Epoch 60/100\n",
            "24/24 [==============================] - 0s 1ms/step - loss: 0.6931 - accuracy: 0.5067\n",
            "Epoch 61/100\n",
            "24/24 [==============================] - 0s 1ms/step - loss: 0.6931 - accuracy: 0.5067\n",
            "Epoch 62/100\n",
            "24/24 [==============================] - 0s 1ms/step - loss: 0.6931 - accuracy: 0.5067\n",
            "Epoch 63/100\n",
            "24/24 [==============================] - 0s 1ms/step - loss: 0.6931 - accuracy: 0.5067\n",
            "Epoch 64/100\n",
            "24/24 [==============================] - 0s 2ms/step - loss: 0.6931 - accuracy: 0.5067\n",
            "Epoch 65/100\n",
            "24/24 [==============================] - 0s 2ms/step - loss: 0.6931 - accuracy: 0.5067\n",
            "Epoch 66/100\n",
            "24/24 [==============================] - 0s 2ms/step - loss: 0.6931 - accuracy: 0.5067\n",
            "Epoch 67/100\n",
            "24/24 [==============================] - 0s 1ms/step - loss: 0.6931 - accuracy: 0.5067\n",
            "Epoch 68/100\n",
            "24/24 [==============================] - 0s 2ms/step - loss: 0.6931 - accuracy: 0.5067\n",
            "Epoch 69/100\n",
            "24/24 [==============================] - 0s 2ms/step - loss: 0.6931 - accuracy: 0.5067\n",
            "Epoch 70/100\n",
            "24/24 [==============================] - 0s 1ms/step - loss: 0.6931 - accuracy: 0.5067\n",
            "Epoch 71/100\n",
            "24/24 [==============================] - 0s 1ms/step - loss: 0.6931 - accuracy: 0.5067\n",
            "Epoch 72/100\n",
            "24/24 [==============================] - 0s 1ms/step - loss: 0.6931 - accuracy: 0.5067\n",
            "Epoch 73/100\n",
            "24/24 [==============================] - 0s 1ms/step - loss: 0.6931 - accuracy: 0.5067\n",
            "Epoch 74/100\n",
            "24/24 [==============================] - 0s 2ms/step - loss: 0.6931 - accuracy: 0.5067\n",
            "Epoch 75/100\n",
            "24/24 [==============================] - 0s 1ms/step - loss: 0.6931 - accuracy: 0.5067\n",
            "Epoch 76/100\n",
            "24/24 [==============================] - 0s 2ms/step - loss: 0.6931 - accuracy: 0.5067\n",
            "Epoch 77/100\n",
            "24/24 [==============================] - 0s 1ms/step - loss: 0.6931 - accuracy: 0.5067\n",
            "Epoch 78/100\n",
            "24/24 [==============================] - 0s 1ms/step - loss: 0.6931 - accuracy: 0.5067\n",
            "Epoch 79/100\n",
            "24/24 [==============================] - 0s 2ms/step - loss: 0.6931 - accuracy: 0.5067\n",
            "Epoch 80/100\n",
            "24/24 [==============================] - 0s 2ms/step - loss: 0.6931 - accuracy: 0.5067\n",
            "Epoch 81/100\n",
            "24/24 [==============================] - 0s 2ms/step - loss: 0.6931 - accuracy: 0.5067\n",
            "Epoch 82/100\n",
            "24/24 [==============================] - 0s 1ms/step - loss: 0.6931 - accuracy: 0.5067\n",
            "Epoch 83/100\n",
            "24/24 [==============================] - 0s 2ms/step - loss: 0.6931 - accuracy: 0.5067\n",
            "Epoch 84/100\n",
            "24/24 [==============================] - 0s 2ms/step - loss: 0.6931 - accuracy: 0.5067\n",
            "Epoch 85/100\n",
            "24/24 [==============================] - 0s 2ms/step - loss: 0.6931 - accuracy: 0.5067\n",
            "Epoch 86/100\n",
            "24/24 [==============================] - 0s 2ms/step - loss: 0.6931 - accuracy: 0.5067\n",
            "Epoch 87/100\n",
            "24/24 [==============================] - 0s 2ms/step - loss: 0.6931 - accuracy: 0.5067\n",
            "Epoch 88/100\n",
            "24/24 [==============================] - 0s 2ms/step - loss: 0.6931 - accuracy: 0.5067\n",
            "Epoch 89/100\n",
            "24/24 [==============================] - 0s 1ms/step - loss: 0.6931 - accuracy: 0.5067\n",
            "Epoch 90/100\n",
            "24/24 [==============================] - 0s 1ms/step - loss: 0.6931 - accuracy: 0.5067\n",
            "Epoch 91/100\n",
            "24/24 [==============================] - 0s 1ms/step - loss: 0.6931 - accuracy: 0.5067\n",
            "Epoch 92/100\n",
            "24/24 [==============================] - 0s 1ms/step - loss: 0.6931 - accuracy: 0.5067\n",
            "Epoch 93/100\n",
            "24/24 [==============================] - 0s 2ms/step - loss: 0.6931 - accuracy: 0.5067\n",
            "Epoch 94/100\n",
            "24/24 [==============================] - 0s 1ms/step - loss: 0.6931 - accuracy: 0.5067\n",
            "Epoch 95/100\n",
            "24/24 [==============================] - 0s 2ms/step - loss: 0.6931 - accuracy: 0.5067\n",
            "Epoch 96/100\n",
            "24/24 [==============================] - 0s 2ms/step - loss: 0.6931 - accuracy: 0.5067\n",
            "Epoch 97/100\n",
            "24/24 [==============================] - 0s 2ms/step - loss: 0.6931 - accuracy: 0.5067\n",
            "Epoch 98/100\n",
            "24/24 [==============================] - 0s 1ms/step - loss: 0.6931 - accuracy: 0.5067\n",
            "Epoch 99/100\n",
            "24/24 [==============================] - 0s 1ms/step - loss: 0.6931 - accuracy: 0.5067\n",
            "Epoch 100/100\n",
            "24/24 [==============================] - 0s 1ms/step - loss: 0.6931 - accuracy: 0.5067\n"
          ]
        }
      ]
    },
    {
      "cell_type": "code",
      "source": [
        "# Create a DataFrame containing training history\n",
        "history_df = pd.DataFrame(fit_model.history, index=range(1,len(fit_model.history[\"loss\"])+1))\n",
        "\n",
        "# Plot the loss\n",
        "history_df.plot(y=\"loss\")"
      ],
      "metadata": {
        "colab": {
          "base_uri": "https://localhost:8080/",
          "height": 283
        },
        "id": "wgf9av-BjwRB",
        "outputId": "2fdfe4e7-fb86-4dcd-ed8d-cc41e7ebd59d"
      },
      "execution_count": 15,
      "outputs": [
        {
          "output_type": "execute_result",
          "data": {
            "text/plain": [
              "<matplotlib.axes._subplots.AxesSubplot at 0x7f002d0ba8d0>"
            ]
          },
          "metadata": {},
          "execution_count": 15
        },
        {
          "output_type": "display_data",
          "data": {
            "text/plain": [
              "<Figure size 432x288 with 1 Axes>"
            ],
            "image/png": "[encoded data removed]"
          },
          "metadata": {
            "needs_background": "light"
          }
        }
      ]
    },
    {
      "cell_type": "code",
      "source": [
        "# Plot the accuracy\n",
        "history_df.plot(y=\"accuracy\")"
      ],
      "metadata": {
        "colab": {
          "base_uri": "https://localhost:8080/",
          "height": 283
        },
        "id": "GSAQTUUNj0Ue",
        "outputId": "94b001c3-f6be-4b9b-cb50-84dd8a6ae53d"
      },
      "execution_count": 16,
      "outputs": [
        {
          "output_type": "execute_result",
          "data": {
            "text/plain": [
              "<matplotlib.axes._subplots.AxesSubplot at 0x7f002e901ed0>"
            ]
          },
          "metadata": {},
          "execution_count": 16
        },
        {
          "output_type": "display_data",
          "data": {
            "text/plain": [
              "<Figure size 432x288 with 1 Axes>"
            ],
            "image/png": "[encoded data removed]"
          },
          "metadata": {
            "needs_background": "light"
          }
        }
      ]
    },
    {
      "cell_type": "code",
      "source": [
        "# Evaluate the model using the test data\n",
        "model_loss, model_accuracy = nn_model.evaluate(X_test_scaled,y_test,verbose=2)\n",
        "print(f\"Loss: {model_loss}, Accuracy: {model_accuracy}\")"
      ],
      "metadata": {
        "colab": {
          "base_uri": "https://localhost:8080/"
        },
        "id": "OmO7KuglkKsE",
        "outputId": "6f642591-165f-4d1b-b7c3-6e071bb7a25a"
      },
      "execution_count": 17,
      "outputs": [
        {
          "output_type": "stream",
          "name": "stdout",
          "text": [
            "8/8 - 0s - loss: 0.6937 - accuracy: 0.4800 - 158ms/epoch - 20ms/step\n",
            "Loss: 0.693705141544342, Accuracy: 0.47999998927116394\n"
          ]
        }
      ]
    },
    {
      "cell_type": "code",
      "source": [
        "# Predict the classification of a new set of blob data\n",
        "new_X, new_Y = make_blobs(n_samples=10, centers=2, n_features=2, random_state=78)\n",
        "new_X_scaled = X_scaler.transform(new_X)\n",
        "(nn_model.predict(new_X_scaled) > 0.5).astype(\"int32\")\n"
      ],
      "metadata": {
        "colab": {
          "base_uri": "https://localhost:8080/"
        },
        "id": "PHElCNfglbMG",
        "outputId": "455840c0-2e1c-4bc3-fe1d-319aea816dbe"
      },
      "execution_count": 19,
      "outputs": [
        {
          "output_type": "execute_result",
          "data": {
            "text/plain": [
              "array([[0],\n",
              "       [0],\n",
              "       [0],\n",
              "       [0],\n",
              "       [0],\n",
              "       [0],\n",
              "       [0],\n",
              "       [0],\n",
              "       [0],\n",
              "       [0]], dtype=int32)"
            ]
          },
          "metadata": {},
          "execution_count": 19
        }
      ]
    },
    {
      "cell_type": "code",
      "source": [
        "#Predict the classification of a new set of blob data\n",
        "new_X, new_Y = make_blobs (n_samples=10, centers=2, n_features=2, random_state=78)\n",
        "new_X_scaled_ = X_scaler.transform(new_X)\n",
        "nn_model.predict_classes(new_X_scaled)"
      ],
      "metadata": {
        "colab": {
          "base_uri": "https://localhost:8080/",
          "height": 207
        },
        "id": "baHi4s_Fl7ce",
        "outputId": "04089537-ce04-4e3e-d4c3-3b46a1ea869a"
      },
      "execution_count": 21,
      "outputs": [
        {
          "output_type": "error",
          "ename": "AttributeError",
          "evalue": "ignored",
          "traceback": [
            "\u001b[0;31m---------------------------------------------------------------------------\u001b[0m",
            "\u001b[0;31mAttributeError\u001b[0m                            Traceback (most recent call last)",
            "\u001b[0;32m<ipython-input-21-671ff51f8a81>\u001b[0m in \u001b[0;36m<module>\u001b[0;34m()\u001b[0m\n\u001b[1;32m      2\u001b[0m \u001b[0mnew_X\u001b[0m\u001b[0;34m,\u001b[0m \u001b[0mnew_Y\u001b[0m \u001b[0;34m=\u001b[0m \u001b[0mmake_blobs\u001b[0m \u001b[0;34m(\u001b[0m\u001b[0mn_samples\u001b[0m\u001b[0;34m=\u001b[0m\u001b[0;36m10\u001b[0m\u001b[0;34m,\u001b[0m \u001b[0mcenters\u001b[0m\u001b[0;34m=\u001b[0m\u001b[0;36m2\u001b[0m\u001b[0;34m,\u001b[0m \u001b[0mn_features\u001b[0m\u001b[0;34m=\u001b[0m\u001b[0;36m2\u001b[0m\u001b[0;34m,\u001b[0m \u001b[0mrandom_state\u001b[0m\u001b[0;34m=\u001b[0m\u001b[0;36m78\u001b[0m\u001b[0;34m)\u001b[0m\u001b[0;34m\u001b[0m\u001b[0;34m\u001b[0m\u001b[0m\n\u001b[1;32m      3\u001b[0m \u001b[0mnew_X_scaled_\u001b[0m \u001b[0;34m=\u001b[0m \u001b[0mX_scaler\u001b[0m\u001b[0;34m.\u001b[0m\u001b[0mtransform\u001b[0m\u001b[0;34m(\u001b[0m\u001b[0mnew_X\u001b[0m\u001b[0;34m)\u001b[0m\u001b[0;34m\u001b[0m\u001b[0;34m\u001b[0m\u001b[0m\n\u001b[0;32m----> 4\u001b[0;31m \u001b[0mnn_model\u001b[0m\u001b[0;34m.\u001b[0m\u001b[0mpredict_classes\u001b[0m\u001b[0;34m(\u001b[0m\u001b[0mnew_X_scaled\u001b[0m\u001b[0;34m)\u001b[0m\u001b[0;34m\u001b[0m\u001b[0;34m\u001b[0m\u001b[0m\n\u001b[0m",
            "\u001b[0;31mAttributeError\u001b[0m: 'Sequential' object has no attribute 'predict_classes'"
          ]
        }
      ]
    }
  ]
}